{
  "cells": [
    {
      "cell_type": "markdown",
      "metadata": {
        "id": "CP6nAyZm4Qqt"
      },
      "source": [
        "# Run this before starting \n",
        "\n"
      ]
    },
    {
      "cell_type": "code",
      "execution_count": 1,
      "metadata": {
        "id": "ysjJZNkLAe8O"
      },
      "outputs": [
        {
          "name": "stdout",
          "output_type": "stream",
          "text": [
            "/bin/bash: line 1: python: command not found\n",
            "Defaulting to user installation because normal site-packages is not writeable\n",
            "Collecting pandas\n",
            "  Downloading pandas-1.5.2-cp310-cp310-manylinux_2_17_x86_64.manylinux2014_x86_64.whl (12.1 MB)\n",
            "\u001b[2K     \u001b[38;2;114;156;31m━━━━━━━━━━━━━━━━━━━━━━━━━━━━━━━━━━━━━━━\u001b[0m \u001b[32m12.1/12.1 MB\u001b[0m \u001b[31m613.0 kB/s\u001b[0m eta \u001b[36m0:00:00\u001b[0mm eta \u001b[36m0:00:01\u001b[0m[36m0:00:01\u001b[0m\n",
            "\u001b[?25hRequirement already satisfied: pytz>=2020.1 in /usr/lib/python3/dist-packages (from pandas) (2022.1)\n",
            "Requirement already satisfied: python-dateutil>=2.8.1 in /home/jerly/.local/lib/python3.10/site-packages (from pandas) (2.8.2)\n",
            "Collecting numpy>=1.21.0\n",
            "  Downloading numpy-1.24.1-cp310-cp310-manylinux_2_17_x86_64.manylinux2014_x86_64.whl (17.3 MB)\n",
            "\u001b[2K     \u001b[38;2;114;156;31m━━━━━━━━━━━━━━━━━━━━━━━━━━━━━━━━━━━━━━━━\u001b[0m \u001b[32m17.3/17.3 MB\u001b[0m \u001b[31m1.2 MB/s\u001b[0m eta \u001b[36m0:00:00\u001b[0mm eta \u001b[36m0:00:01\u001b[0m[36m0:00:01\u001b[0mm\n",
            "\u001b[?25hRequirement already satisfied: six>=1.5 in /usr/lib/python3/dist-packages (from python-dateutil>=2.8.1->pandas) (1.16.0)\n",
            "Installing collected packages: numpy, pandas\n",
            "Successfully installed numpy-1.24.1 pandas-1.5.2\n"
          ]
        },
        {
          "data": {
            "text/plain": [
              "['Defaulting to user installation because normal site-packages is not writeable',\n",
              " 'Collecting pandasql',\n",
              " '  Downloading pandasql-0.7.3.tar.gz (26 kB)',\n",
              " '  Preparing metadata (setup.py): started',\n",
              " \"  Preparing metadata (setup.py): finished with status 'done'\",\n",
              " 'Requirement already satisfied: numpy in /home/jerly/.local/lib/python3.10/site-packages (from pandasql) (1.24.1)',\n",
              " 'Requirement already satisfied: pandas in /home/jerly/.local/lib/python3.10/site-packages (from pandasql) (1.5.2)',\n",
              " 'Collecting sqlalchemy',\n",
              " '  Downloading SQLAlchemy-1.4.45-cp310-cp310-manylinux_2_5_x86_64.manylinux1_x86_64.manylinux_2_17_x86_64.manylinux2014_x86_64.whl (1.6 MB)',\n",
              " '     ━━━━━━━━━━━━━━━━━━━━━━━━━━━━━━━━━━━━━━━━ 1.6/1.6 MB 1.1 MB/s eta 0:00:00',\n",
              " 'Requirement already satisfied: pytz>=2020.1 in /usr/lib/python3/dist-packages (from pandas->pandasql) (2022.1)',\n",
              " 'Requirement already satisfied: python-dateutil>=2.8.1 in /home/jerly/.local/lib/python3.10/site-packages (from pandas->pandasql) (2.8.2)',\n",
              " 'Collecting greenlet!=0.4.17',\n",
              " '  Downloading greenlet-2.0.1-cp310-cp310-manylinux_2_17_x86_64.manylinux2014_x86_64.whl (539 kB)',\n",
              " '     ━━━━━━━━━━━━━━━━━━━━━━━━━━━━━━━━━━━━━ 539.9/539.9 KB 525.5 kB/s eta 0:00:00',\n",
              " 'Requirement already satisfied: six>=1.5 in /usr/lib/python3/dist-packages (from python-dateutil>=2.8.1->pandas->pandasql) (1.16.0)',\n",
              " 'Building wheels for collected packages: pandasql',\n",
              " '  Building wheel for pandasql (setup.py): started',\n",
              " \"  Building wheel for pandasql (setup.py): finished with status 'done'\",\n",
              " '  Created wheel for pandasql: filename=pandasql-0.7.3-py3-none-any.whl size=26784 sha256=620bdb826e104e4031d845d9fa216da1b5d729c916ec511f52991f9bd627baeb',\n",
              " '  Stored in directory: /home/jerly/.cache/pip/wheels/e9/bc/3a/8434bdcccf5779e72894a9b24fecbdcaf97940607eaf4bcdf9',\n",
              " 'Successfully built pandasql',\n",
              " 'Installing collected packages: greenlet, sqlalchemy, pandasql',\n",
              " 'Successfully installed greenlet-2.0.1 pandasql-0.7.3 sqlalchemy-1.4.45']"
            ]
          },
          "execution_count": 1,
          "metadata": {},
          "output_type": "execute_result"
        }
      ],
      "source": [
        "!python --version\n",
        "!pip install pandas\n",
        "!!pip install pandasql\n"
      ]
    },
    {
      "cell_type": "markdown",
      "metadata": {
        "id": "lcTGXa9yChtr"
      },
      "source": [
        "# Problem A - Password generator\n",
        "\n",
        "Write a password generator CLI. Be creative with how you generate passwords - strong passwords have a mix of lowercase letters, uppercase letters, numbers, and symbols. The passwords should be random, generating a new password every time the user asks for a new password. Include your run-time code in a main method.\n",
        "\n",
        "Extra:\n",
        "* Ask the user how strong they want their password to be. For weak passwords, \n",
        "pick a word or two from a list.\n"
      ]
    },
    {
      "cell_type": "markdown",
      "metadata": {
        "id": "4KvAF1W3gqJx"
      },
      "source": [
        "## Solution:"
      ]
    },
    {
      "cell_type": "code",
      "execution_count": null,
      "metadata": {
        "colab": {
          "base_uri": "https://localhost:8080/"
        },
        "id": "y486f6KdtQO8",
        "outputId": "7fc34f40-093a-49b8-f8fe-0eb8e5cfa26f"
      },
      "outputs": [
        {
          "name": "stdout",
          "output_type": "stream",
          "text": [
            "Welcome to the password generator CLI!\n",
            "\n",
            "Enter password strength (weak, medium, strong): strong\n",
            "\n",
            "Your new password is: o-BtH8*Tmi)[@~?[\n"
          ]
        }
      ],
      "source": [
        "import random\n",
        "import string\n",
        "\n",
        "\n",
        "def generate_password():\n",
        "    print(\"Welcome to the password generator CLI!\\n\")\n",
        "    words = [\"luffy\", \"data\", \"kvothe\", \"akira\"]\n",
        "    password = \"\"\n",
        "\n",
        "    # Ask the user for password strength\n",
        "    strength = input(\"Enter password strength (weak, medium, strong): \").lower()\n",
        "\n",
        "    # Generate random password based on strength\n",
        "    if strength == \"weak\":\n",
        "        password = random.choice(words)\n",
        "\n",
        "    # Generate a medium password (a mix of letters, numbers, and symbols of length 12)\n",
        "    elif strength == \"medium\":\n",
        "        password_length = 12\n",
        "        password = \"\".join(random.choices(\n",
        "            string.ascii_letters + string.digits + string.punctuation, k=password_length))\n",
        "\n",
        "    # Generate a strong password (a mix of letters, numbers, and symbols of length 16)\n",
        "    elif strength == \"strong\":\n",
        "        password_length = 16\n",
        "        password = \"\".join(random.choices(\n",
        "            string.ascii_letters + string.digits + string.punctuation, k=password_length))\n",
        "\n",
        "    # Generate a secure password (a mixture of letters and numbers of length 16)\n",
        "    else:\n",
        "        password_length = 16\n",
        "        password = ''.join(random.choices(string.ascii_lowercase +\n",
        "                           string.ascii_uppercase + string.digits, k=password_length))\n",
        "\n",
        "    # Print the generated password\n",
        "    print(\"\\nYour new password is:\", password)\n",
        "\n",
        "\n",
        "\n",
        "password = generate_password()\n",
        "\n",
        "\n"
      ]
    },
    {
      "cell_type": "markdown",
      "metadata": {
        "id": "FnfCVZ2_Cjay"
      },
      "source": [
        "# Problem B - Maximum Edge of a Triangle\n",
        "Create a function that finds the maximum range of a triangle's third edge, where the side lengths are all integers.\n",
        "\n",
        "Examples:\n",
        "* next_edge(8, 10) ➞ 17\n",
        "* next_edge(5, 7) ➞ 11\n",
        "* next_edge(9, 2) ➞ 10\n",
        "\n",
        "Notes:\n",
        "* (side1 + side2) - 1 = maximum range of third edge.\n",
        "* The side lengths of the triangle are positive integers.\n"
      ]
    },
    {
      "cell_type": "markdown",
      "metadata": {
        "id": "HqZ9f61xu_69"
      },
      "source": [
        "## Solution:"
      ]
    },
    {
      "cell_type": "code",
      "execution_count": null,
      "metadata": {
        "colab": {
          "base_uri": "https://localhost:8080/"
        },
        "id": "9SZ8FgjwGiLA",
        "outputId": "6e1b4b04-dfc4-4b08-e11a-163e3c2bfe09"
      },
      "outputs": [
        {
          "name": "stdout",
          "output_type": "stream",
          "text": [
            "17\n"
          ]
        }
      ],
      "source": [
        "def next_edge(side1, side2):\n",
        "   \n",
        "    # Check if a given value is a positive integer\n",
        "    condition = isinstance(side1, int) and type(side1) == int and side1 > 0 and (\n",
        "        isinstance(side2, int) and side2 > 0 and type(side1) == int)\n",
        "    if condition:\n",
        "        # Calculate the maximum range of the third edge using the formula (side1 + side2) - 1\n",
        "        max_range = (side1 + side2) - 1\n",
        "\n",
        "    else:\n",
        "        max_range = \"Both values must be positive integers\"\n",
        "\n",
        "    # Returns the maximum range or a message with the exception\n",
        "    return max_range\n",
        "\n",
        "print(next_edge(8, 10))  # Output: 17"
      ]
    },
    {
      "cell_type": "markdown",
      "metadata": {
        "id": "MWtUlI0rvFMV"
      },
      "source": [
        "### Test:"
      ]
    },
    {
      "cell_type": "code",
      "execution_count": null,
      "metadata": {
        "colab": {
          "base_uri": "https://localhost:8080/"
        },
        "id": "vc201rncvKQi",
        "outputId": "2b5d629d-5f85-4957-a43a-19622fd1ce0f"
      },
      "outputs": [
        {
          "name": "stdout",
          "output_type": "stream",
          "text": [
            "10\n",
            "10\n",
            "Both values must be positive integers\n",
            "Both values must be positive integers\n"
          ]
        }
      ],
      "source": [
        "print(next_edge(9, 2))  # Output: 11\n",
        "print(next_edge(9, 2))  # Output: 10\n",
        "print(next_edge(-9, 2))  # Output: exception\n",
        "print(next_edge(-2, -2))  # Output: exception"
      ]
    },
    {
      "cell_type": "markdown",
      "metadata": {
        "id": "bnC_Wl1HDV0n"
      },
      "source": [
        "# Problem C - Triangle Type\n",
        "\n",
        "Write a SQL query identifying the type of each record in the **TRIANGLES** table using its three side lengths. Output one of the following statements for each record in the table:\n",
        "\n",
        "* Equilateral: It's a triangle with sides of equal length.\n",
        "* Isosceles: It's a triangle with 2 sides of equal length.\n",
        "* Scalene: It's a triangle with sides of differing lengths.\n",
        "* Not A Triangle: The given values of A, B, and C don't form a triangle.\n",
        "\n",
        "\n",
        "**Input Format**\n",
        "\n",
        "The **TRIANGLES** table is described as follows:\n",
        "\n",
        "![Screenshot from 2022-12-09 18-43-48.png](data:image/png;base64,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)\n",
        "\n",
        "\n",
        "Each row in the table denotes the lengths of each of a triangle's three sides.\n",
        "\n",
        "**Sample Input**\n",
        "\n",
        "![Screenshot from 2022-12-09 18-45-42.png](data:image/png;base64,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)\n",
        "\n",
        "**Sample Output **\n",
        "\n",
        "Isosceles\n",
        "Equilateral\n",
        "Scalene\n",
        "Not A Triangle\n",
        "\n",
        "\n",
        "\n",
        "**Explanation**\n",
        "* Values in the tuple (20,20,23) form an Isosceles triangle, because A=B.\n",
        "* Values in the tuple (20,20,20) form an Equilateral triangle, because A=B=C\n",
        "* Values in the tuple (20,21,22) form a Scalene triangle because A <> B <> C\n",
        "* Values in the tuple (13,14,30) cannot form a triangle because the combined * value of sides A and B is not larger than that of side C.\n",
        "\n"
      ]
    },
    {
      "cell_type": "code",
      "execution_count": null,
      "metadata": {
        "colab": {
          "base_uri": "https://localhost:8080/"
        },
        "id": "OXbdvvwqGn88",
        "outputId": "167a7d71-c028-422e-df4b-5990ee6e18c3"
      },
      "outputs": [
        {
          "name": "stdout",
          "output_type": "stream",
          "text": [
            "    triangle_type\n",
            "0       Isosceles\n",
            "1     Equilateral\n",
            "2         Scalene\n",
            "3  Not A Triangle\n"
          ]
        }
      ],
      "source": [
        "# Import the pandas and pandasql libraries\n",
        "import pandas as pd\n",
        "from pandasql import sqldf\n",
        "\n",
        "# Create a DataFrame with the data from the TRIANGLES table\n",
        "triangles = [\n",
        "    {'A': 20, 'B': 20, 'C': 23},\n",
        "    {'A': 20, 'B': 20, 'C': 20},\n",
        "    {'A': 20, 'B': 21, 'C': 22},\n",
        "    {'A': 13, 'B': 14, 'C': 30}\n",
        "]\n",
        "df = pd.DataFrame(triangles)\n",
        "\n",
        "# Write a SQL query that identifies the type of each triangle\n",
        "query = \"\"\"\n",
        "SELECT\n",
        "    CASE\n",
        "        WHEN A = B AND B = C THEN 'Equilateral'\n",
        "        WHEN A = B OR B = C OR A = C THEN 'Isosceles'\n",
        "        WHEN (A + B > C) AND (A + C > B) AND (B + C > A) THEN 'Scalene'\n",
        "        ELSE 'Not A Triangle'\n",
        "    END AS 'triangle_type'\n",
        "FROM df\n",
        "\"\"\"\n",
        "\n",
        "# Print the query results\n",
        "print(sqldf(query, locals()))\n"
      ]
    }
  ],
  "metadata": {
    "colab": {
      "provenance": [],
      "toc_visible": true
    },
    "kernelspec": {
      "display_name": "Python 3",
      "language": "python",
      "name": "python3"
    },
    "language_info": {
      "codemirror_mode": {
        "name": "ipython",
        "version": 3
      },
      "file_extension": ".py",
      "mimetype": "text/x-python",
      "name": "python",
      "nbconvert_exporter": "python",
      "pygments_lexer": "ipython3",
      "version": "3.10.6"
    },
    "vscode": {
      "interpreter": {
        "hash": "916dbcbb3f70747c44a77c7bcd40155683ae19c65e1c03b4aa3499c5328201f1"
      }
    }
  },
  "nbformat": 4,
  "nbformat_minor": 0
}
